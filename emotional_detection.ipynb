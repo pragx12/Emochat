{
 "cells": [
  {
   "cell_type": "code",
   "execution_count": 1,
   "metadata": {},
   "outputs": [
    {
     "name": "stdout",
     "output_type": "stream",
     "text": [
      "Requirement already satisfied: tensorflow in c:\\users\\mayank\\anaconda3\\envs\\mpc-project\\lib\\site-packages (2.8.0)\n",
      "Requirement already satisfied: gast>=0.2.1 in c:\\users\\mayank\\anaconda3\\envs\\mpc-project\\lib\\site-packages (from tensorflow) (0.5.3)\n",
      "Requirement already satisfied: absl-py>=0.4.0 in c:\\users\\mayank\\anaconda3\\envs\\mpc-project\\lib\\site-packages (from tensorflow) (1.0.0)\n",
      "Requirement already satisfied: h5py>=2.9.0 in c:\\users\\mayank\\anaconda3\\envs\\mpc-project\\lib\\site-packages (from tensorflow) (3.6.0)\n",
      "Requirement already satisfied: setuptools in c:\\users\\mayank\\anaconda3\\envs\\mpc-project\\lib\\site-packages (from tensorflow) (61.2.0)\n",
      "Requirement already satisfied: grpcio<2.0,>=1.24.3 in c:\\users\\mayank\\anaconda3\\envs\\mpc-project\\lib\\site-packages (from tensorflow) (1.44.0)\n",
      "Requirement already satisfied: flatbuffers>=1.12 in c:\\users\\mayank\\anaconda3\\envs\\mpc-project\\lib\\site-packages (from tensorflow) (2.0)\n",
      "Requirement already satisfied: termcolor>=1.1.0 in c:\\users\\mayank\\anaconda3\\envs\\mpc-project\\lib\\site-packages (from tensorflow) (1.1.0)\n",
      "Requirement already satisfied: keras-preprocessing>=1.1.1 in c:\\users\\mayank\\anaconda3\\envs\\mpc-project\\lib\\site-packages (from tensorflow) (1.1.2)\n",
      "Requirement already satisfied: keras<2.9,>=2.8.0rc0 in c:\\users\\mayank\\anaconda3\\envs\\mpc-project\\lib\\site-packages (from tensorflow) (2.8.0)\n",
      "Requirement already satisfied: astunparse>=1.6.0 in c:\\users\\mayank\\anaconda3\\envs\\mpc-project\\lib\\site-packages (from tensorflow) (1.6.3)\n",
      "Requirement already satisfied: wrapt>=1.11.0 in c:\\users\\mayank\\anaconda3\\envs\\mpc-project\\lib\\site-packages (from tensorflow) (1.14.0)\n",
      "Requirement already satisfied: tensorboard<2.9,>=2.8 in c:\\users\\mayank\\anaconda3\\envs\\mpc-project\\lib\\site-packages (from tensorflow) (2.8.0)\n",
      "Requirement already satisfied: tf-estimator-nightly==2.8.0.dev2021122109 in c:\\users\\mayank\\anaconda3\\envs\\mpc-project\\lib\\site-packages (from tensorflow) (2.8.0.dev2021122109)\n",
      "Requirement already satisfied: opt-einsum>=2.3.2 in c:\\users\\mayank\\anaconda3\\envs\\mpc-project\\lib\\site-packages (from tensorflow) (3.3.0)\n",
      "Requirement already satisfied: google-pasta>=0.1.1 in c:\\users\\mayank\\anaconda3\\envs\\mpc-project\\lib\\site-packages (from tensorflow) (0.2.0)\n",
      "Requirement already satisfied: protobuf>=3.9.2 in c:\\users\\mayank\\anaconda3\\envs\\mpc-project\\lib\\site-packages (from tensorflow) (3.20.1)\n",
      "Requirement already satisfied: tensorflow-io-gcs-filesystem>=0.23.1 in c:\\users\\mayank\\anaconda3\\envs\\mpc-project\\lib\\site-packages (from tensorflow) (0.25.0)\n",
      "Requirement already satisfied: six>=1.12.0 in c:\\users\\mayank\\anaconda3\\envs\\mpc-project\\lib\\site-packages (from tensorflow) (1.16.0)\n",
      "Requirement already satisfied: numpy>=1.20 in c:\\users\\mayank\\anaconda3\\envs\\mpc-project\\lib\\site-packages (from tensorflow) (1.22.3)\n",
      "Requirement already satisfied: typing-extensions>=3.6.6 in c:\\users\\mayank\\anaconda3\\envs\\mpc-project\\lib\\site-packages (from tensorflow) (4.2.0)\n",
      "Requirement already satisfied: libclang>=9.0.1 in c:\\users\\mayank\\anaconda3\\envs\\mpc-project\\lib\\site-packages (from tensorflow) (14.0.1)\n",
      "Requirement already satisfied: wheel<1.0,>=0.23.0 in c:\\users\\mayank\\anaconda3\\envs\\mpc-project\\lib\\site-packages (from astunparse>=1.6.0->tensorflow) (0.37.1)\n",
      "Requirement already satisfied: tensorboard-plugin-wit>=1.6.0 in c:\\users\\mayank\\anaconda3\\envs\\mpc-project\\lib\\site-packages (from tensorboard<2.9,>=2.8->tensorflow) (1.8.1)\n",
      "Requirement already satisfied: tensorboard-data-server<0.7.0,>=0.6.0 in c:\\users\\mayank\\anaconda3\\envs\\mpc-project\\lib\\site-packages (from tensorboard<2.9,>=2.8->tensorflow) (0.6.1)\n",
      "Requirement already satisfied: markdown>=2.6.8 in c:\\users\\mayank\\anaconda3\\envs\\mpc-project\\lib\\site-packages (from tensorboard<2.9,>=2.8->tensorflow) (3.3.6)\n",
      "Requirement already satisfied: google-auth-oauthlib<0.5,>=0.4.1 in c:\\users\\mayank\\anaconda3\\envs\\mpc-project\\lib\\site-packages (from tensorboard<2.9,>=2.8->tensorflow) (0.4.6)\n",
      "Requirement already satisfied: google-auth<3,>=1.6.3 in c:\\users\\mayank\\anaconda3\\envs\\mpc-project\\lib\\site-packages (from tensorboard<2.9,>=2.8->tensorflow) (2.6.6)\n",
      "Requirement already satisfied: werkzeug>=0.11.15 in c:\\users\\mayank\\anaconda3\\envs\\mpc-project\\lib\\site-packages (from tensorboard<2.9,>=2.8->tensorflow) (2.1.2)\n",
      "Requirement already satisfied: requests<3,>=2.21.0 in c:\\users\\mayank\\anaconda3\\envs\\mpc-project\\lib\\site-packages (from tensorboard<2.9,>=2.8->tensorflow) (2.27.1)\n",
      "Requirement already satisfied: rsa<5,>=3.1.4 in c:\\users\\mayank\\anaconda3\\envs\\mpc-project\\lib\\site-packages (from google-auth<3,>=1.6.3->tensorboard<2.9,>=2.8->tensorflow) (4.8)\n",
      "Requirement already satisfied: cachetools<6.0,>=2.0.0 in c:\\users\\mayank\\anaconda3\\envs\\mpc-project\\lib\\site-packages (from google-auth<3,>=1.6.3->tensorboard<2.9,>=2.8->tensorflow) (5.0.0)\n",
      "Requirement already satisfied: pyasn1-modules>=0.2.1 in c:\\users\\mayank\\anaconda3\\envs\\mpc-project\\lib\\site-packages (from google-auth<3,>=1.6.3->tensorboard<2.9,>=2.8->tensorflow) (0.2.8)\n",
      "Requirement already satisfied: requests-oauthlib>=0.7.0 in c:\\users\\mayank\\anaconda3\\envs\\mpc-project\\lib\\site-packages (from google-auth-oauthlib<0.5,>=0.4.1->tensorboard<2.9,>=2.8->tensorflow) (1.3.1)\n",
      "Requirement already satisfied: importlib-metadata>=4.4 in c:\\users\\mayank\\anaconda3\\envs\\mpc-project\\lib\\site-packages (from markdown>=2.6.8->tensorboard<2.9,>=2.8->tensorflow) (4.11.3)\n",
      "Requirement already satisfied: zipp>=0.5 in c:\\users\\mayank\\anaconda3\\envs\\mpc-project\\lib\\site-packages (from importlib-metadata>=4.4->markdown>=2.6.8->tensorboard<2.9,>=2.8->tensorflow) (3.8.0)\n",
      "Requirement already satisfied: pyasn1<0.5.0,>=0.4.6 in c:\\users\\mayank\\anaconda3\\envs\\mpc-project\\lib\\site-packages (from pyasn1-modules>=0.2.1->google-auth<3,>=1.6.3->tensorboard<2.9,>=2.8->tensorflow) (0.4.8)\n",
      "Requirement already satisfied: urllib3<1.27,>=1.21.1 in c:\\users\\mayank\\anaconda3\\envs\\mpc-project\\lib\\site-packages (from requests<3,>=2.21.0->tensorboard<2.9,>=2.8->tensorflow) (1.26.9)\n",
      "Requirement already satisfied: certifi>=2017.4.17 in c:\\users\\mayank\\anaconda3\\envs\\mpc-project\\lib\\site-packages (from requests<3,>=2.21.0->tensorboard<2.9,>=2.8->tensorflow) (2021.10.8)\n",
      "Requirement already satisfied: charset-normalizer~=2.0.0 in c:\\users\\mayank\\anaconda3\\envs\\mpc-project\\lib\\site-packages (from requests<3,>=2.21.0->tensorboard<2.9,>=2.8->tensorflow) (2.0.12)\n",
      "Requirement already satisfied: idna<4,>=2.5 in c:\\users\\mayank\\anaconda3\\envs\\mpc-project\\lib\\site-packages (from requests<3,>=2.21.0->tensorboard<2.9,>=2.8->tensorflow) (3.3)\n",
      "Requirement already satisfied: oauthlib>=3.0.0 in c:\\users\\mayank\\anaconda3\\envs\\mpc-project\\lib\\site-packages (from requests-oauthlib>=0.7.0->google-auth-oauthlib<0.5,>=0.4.1->tensorboard<2.9,>=2.8->tensorflow) (3.2.0)\n",
      "Requirement already satisfied: numpy in c:\\users\\mayank\\anaconda3\\envs\\mpc-project\\lib\\site-packages (1.22.3)\n"
     ]
    }
   ],
   "source": [
    "!pip install tensorflow\n",
    "!pip install numpy"
   ]
  },
  {
   "cell_type": "code",
   "execution_count": 2,
   "metadata": {
    "executionInfo": {
     "elapsed": 335,
     "status": "ok",
     "timestamp": 1623568837225,
     "user": {
      "displayName": "邦",
      "photoUrl": "",
      "userId": "08470115849709744422"
     },
     "user_tz": -480
    },
    "id": "FF56p87gxUyn"
   },
   "outputs": [],
   "source": [
    "import numpy as np\n",
    "from tensorflow import keras\n",
    "from sklearn.preprocessing import LabelEncoder\n",
    "import pickle\n",
    "from tensorflow.keras.preprocessing.sequence import pad_sequences"
   ]
  },
  {
   "cell_type": "code",
   "execution_count": 3,
   "metadata": {
    "executionInfo": {
     "elapsed": 16632,
     "status": "ok",
     "timestamp": 1623568856067,
     "user": {
      "displayName": "邦",
      "photoUrl": "",
      "userId": "08470115849709744422"
     },
     "user_tz": -480
    },
    "id": "GpAKIOtl7Rig"
   },
   "outputs": [],
   "source": [
    "def load_model():\n",
    "    model = keras.models.load_model('emotional_model')\n",
    "\n",
    "    with open('tokenizer.pickle','rb') as handle:\n",
    "        tokenizer = pickle.load(handle)\n",
    "    with open('label_encoder.pickle','rb') as enc:\n",
    "        index_to_class = pickle.load(enc)\n",
    "\n",
    "\n",
    "\n",
    "def get_sequences(tokenizer,tweets):\n",
    "  maxlen = 50\n",
    "  sequence = tokenizer.texts_to_sequences(tweets)\n",
    "  padded = pad_sequences(sequence, truncating = 'post', padding = 'post', maxlen = maxlen)\n",
    "  return padded"
   ]
  },
  {
   "cell_type": "code",
   "execution_count": 4,
   "metadata": {
    "colab": {
     "base_uri": "https://localhost:8080/"
    },
    "executionInfo": {
     "elapsed": 3129,
     "status": "ok",
     "timestamp": 1623568861777,
     "user": {
      "displayName": "邦",
      "photoUrl": "",
      "userId": "08470115849709744422"
     },
     "user_tz": -480
    },
    "id": "VjcSINm4xfnv",
    "outputId": "58955125-f210-43b2-e6e8-0c4cdb989d2e"
   },
   "outputs": [],
   "source": [
    "def predicting(inp):\n",
    "    lists = [inp]\n",
    "    padded = get_sequences(tokenizer,lists)\n",
    "\n",
    "    result = model.predict(np.expand_dims(padded[0],axis=0))[0]\n",
    "\n",
    "    tag = index_to_class[np.argmax(result).astype('uint8')]   \n",
    "    return tag\n"
   ]
  },
  {
   "cell_type": "code",
   "execution_count": 5,
   "metadata": {},
   "outputs": [
    {
     "ename": "NameError",
     "evalue": "name 'tokenizer' is not defined",
     "output_type": "error",
     "traceback": [
      "\u001b[1;31m---------------------------------------------------------------------------\u001b[0m",
      "\u001b[1;31mNameError\u001b[0m                                 Traceback (most recent call last)",
      "\u001b[1;32md:\\Coding\\Projects\\MPC Project\\emotional_detection.ipynb Cell 5'\u001b[0m in \u001b[0;36m<cell line: 2>\u001b[1;34m()\u001b[0m\n\u001b[0;32m      <a href='vscode-notebook-cell:/d%3A/Coding/Projects/MPC%20Project/emotional_detection.ipynb#ch0000004?line=1'>2</a>\u001b[0m \u001b[39mwhile\u001b[39;00m(txt \u001b[39m!=\u001b[39m \u001b[39m\"\u001b[39m\u001b[39mexit\u001b[39m\u001b[39m\"\u001b[39m):\n\u001b[0;32m      <a href='vscode-notebook-cell:/d%3A/Coding/Projects/MPC%20Project/emotional_detection.ipynb#ch0000004?line=2'>3</a>\u001b[0m   txt \u001b[39m=\u001b[39m \u001b[39minput\u001b[39m()\n\u001b[1;32m----> <a href='vscode-notebook-cell:/d%3A/Coding/Projects/MPC%20Project/emotional_detection.ipynb#ch0000004?line=3'>4</a>\u001b[0m   \u001b[39mprint\u001b[39m(predicting(txt))\n",
      "\u001b[1;32md:\\Coding\\Projects\\MPC Project\\emotional_detection.ipynb Cell 4'\u001b[0m in \u001b[0;36mpredicting\u001b[1;34m(inp)\u001b[0m\n\u001b[0;32m      <a href='vscode-notebook-cell:/d%3A/Coding/Projects/MPC%20Project/emotional_detection.ipynb#ch0000003?line=0'>1</a>\u001b[0m \u001b[39mdef\u001b[39;00m \u001b[39mpredicting\u001b[39m(inp):\n\u001b[0;32m      <a href='vscode-notebook-cell:/d%3A/Coding/Projects/MPC%20Project/emotional_detection.ipynb#ch0000003?line=1'>2</a>\u001b[0m     lists \u001b[39m=\u001b[39m [inp]\n\u001b[1;32m----> <a href='vscode-notebook-cell:/d%3A/Coding/Projects/MPC%20Project/emotional_detection.ipynb#ch0000003?line=2'>3</a>\u001b[0m     padded \u001b[39m=\u001b[39m get_sequences(tokenizer,lists)\n\u001b[0;32m      <a href='vscode-notebook-cell:/d%3A/Coding/Projects/MPC%20Project/emotional_detection.ipynb#ch0000003?line=4'>5</a>\u001b[0m     result \u001b[39m=\u001b[39m model\u001b[39m.\u001b[39mpredict(np\u001b[39m.\u001b[39mexpand_dims(padded[\u001b[39m0\u001b[39m],axis\u001b[39m=\u001b[39m\u001b[39m0\u001b[39m))[\u001b[39m0\u001b[39m]\n\u001b[0;32m      <a href='vscode-notebook-cell:/d%3A/Coding/Projects/MPC%20Project/emotional_detection.ipynb#ch0000003?line=6'>7</a>\u001b[0m     tag \u001b[39m=\u001b[39m index_to_class[np\u001b[39m.\u001b[39margmax(result)\u001b[39m.\u001b[39mastype(\u001b[39m'\u001b[39m\u001b[39muint8\u001b[39m\u001b[39m'\u001b[39m)]   \n",
      "\u001b[1;31mNameError\u001b[0m: name 'tokenizer' is not defined"
     ]
    }
   ],
   "source": [
    "txt = \"\"\n",
    "while(txt != \"exit\"):\n",
    "  txt = input()\n",
    "  print(predicting(txt))"
   ]
  }
 ],
 "metadata": {
  "colab": {
   "authorship_tag": "ABX9TyPDg5RHsYj29YihpMk65HOj",
   "mount_file_id": "1gTZvpuWZgxPwWxRtj19TZpt8diT--PdL",
   "name": "application.ipynb",
   "provenance": []
  },
  "kernelspec": {
   "display_name": "Python 3",
   "language": "python",
   "name": "python3"
  },
  "language_info": {
   "codemirror_mode": {
    "name": "ipython",
    "version": 3
   },
   "file_extension": ".py",
   "mimetype": "text/x-python",
   "name": "python",
   "nbconvert_exporter": "python",
   "pygments_lexer": "ipython3",
   "version": "3.9.12"
  }
 },
 "nbformat": 4,
 "nbformat_minor": 1
}
